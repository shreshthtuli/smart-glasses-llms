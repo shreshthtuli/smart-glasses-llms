{
 "cells": [
  {
   "cell_type": "markdown",
   "metadata": {},
   "source": [
    "### Run benchmarks"
   ]
  },
  {
   "cell_type": "code",
   "execution_count": null,
   "metadata": {},
   "outputs": [],
   "source": [
    "import subprocess\n",
    "\n",
    "BENCHMARKS = ['hh_bench', 'ihap_bench', 'mt_bench', 'vicuna_bench']\n",
    "MODEL_PARALLEL = {\n",
    "    'Locutusque/TinyMistral-248M-v2.5': 12,\n",
    "    # 'TinyLlama/TinyLlama-1.1B-Chat-v1.0': 10,\n",
    "    # 'Writer/palmyra-small': 10,\n",
    "    # 'Writer/palmyra-3B': 3,\n",
    "    # 'lmsys/vicuna-7b-v1.5': 2,\n",
    "    # 'google/gemma-7b': 2,\n",
    "    # 'google/gemma-2b': 10,\n",
    "    # 'mistralai/Mistral-7B-Instruct-v0.2': 2,\n",
    "    # 'openchat/openchat-3.5-0106': 4,\n",
    "    # 'microsoft/phi-2': 10,\n",
    "    # 'microsoft/phi-1_5': 10\n",
    "}\n",
    "\n",
    "for model in MODEL_PARALLEL:\n",
    "    name = model.split('/')[1]\n",
    "    gpus = MODEL_PARALLEL[model]\n",
    "    for bench in BENCHMARKS:\n",
    "        subprocess.run(f\"python3 scripts/gen_model_answer.py --model-path {model} --model-id {name} --num-gpus-total {gpus} --bench-name {bench}\".split(\" \"))"
   ]
  },
  {
   "cell_type": "markdown",
   "metadata": {},
   "source": [
    "### Run Judge"
   ]
  },
  {
   "cell_type": "code",
   "execution_count": null,
   "metadata": {},
   "outputs": [],
   "source": [
    "import os \n",
    "\n",
    "for bench in BENCHMARKS:\n",
    "    names = os.listdir(f'data/{bench}/model_answers/')\n",
    "    names = [name.split('.')[0] for name in names]\n",
    "    subprocess.run(f\"python3 scripts/gen_jusgement.py --model-list {names} --parallel 2 --bench-name {bench} --judge-model gpt-4-0125-preview\".split(\" \"))"
   ]
  }
 ],
 "metadata": {
  "kernelspec": {
   "display_name": "Python 3",
   "language": "python",
   "name": "python3"
  },
  "language_info": {
   "codemirror_mode": {
    "name": "ipython",
    "version": 3
   },
   "file_extension": ".py",
   "mimetype": "text/x-python",
   "name": "python",
   "nbconvert_exporter": "python",
   "pygments_lexer": "ipython3",
   "version": "3.11.6"
  }
 },
 "nbformat": 4,
 "nbformat_minor": 2
}

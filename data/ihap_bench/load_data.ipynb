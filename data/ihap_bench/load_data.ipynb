{
 "cells": [
  {
   "cell_type": "markdown",
   "metadata": {},
   "source": [
    "### Load Dataset"
   ]
  },
  {
   "cell_type": "code",
   "execution_count": 1,
   "metadata": {},
   "outputs": [],
   "source": [
    "from datasets import load_dataset\n",
    "\n",
    "dataset = load_dataset(\"Dahoas/instruct-human-assistant-prompt\", split='train')"
   ]
  },
  {
   "cell_type": "markdown",
   "metadata": {},
   "source": [
    "### Save raw dataset"
   ]
  },
  {
   "cell_type": "code",
   "execution_count": 2,
   "metadata": {},
   "outputs": [
    {
     "data": {
      "application/vnd.jupyter.widget-view+json": {
       "model_id": "67fb4fc28fde4ca7b753f2fa3dffbc39",
       "version_major": 2,
       "version_minor": 0
      },
      "text/plain": [
       "Creating json from Arrow format:   0%|          | 0/105 [00:00<?, ?ba/s]"
      ]
     },
     "metadata": {},
     "output_type": "display_data"
    },
    {
     "data": {
      "text/html": [
       "<div>\n",
       "<style scoped>\n",
       "    .dataframe tbody tr th:only-of-type {\n",
       "        vertical-align: middle;\n",
       "    }\n",
       "\n",
       "    .dataframe tbody tr th {\n",
       "        vertical-align: top;\n",
       "    }\n",
       "\n",
       "    .dataframe thead th {\n",
       "        text-align: right;\n",
       "    }\n",
       "</style>\n",
       "<table border=\"1\" class=\"dataframe\">\n",
       "  <thead>\n",
       "    <tr style=\"text-align: right;\">\n",
       "      <th></th>\n",
       "      <th>prompt</th>\n",
       "    </tr>\n",
       "  </thead>\n",
       "  <tbody>\n",
       "    <tr>\n",
       "      <th>0</th>\n",
       "      <td>Human: I was wondering if you could walk me th...</td>\n",
       "    </tr>\n",
       "    <tr>\n",
       "      <th>1</th>\n",
       "      <td>Human: What type of wine goes best with steak....</td>\n",
       "    </tr>\n",
       "    <tr>\n",
       "      <th>2</th>\n",
       "      <td>Human: How do I know if this is a good investm...</td>\n",
       "    </tr>\n",
       "    <tr>\n",
       "      <th>3</th>\n",
       "      <td>Human: Please provide me with some financial a...</td>\n",
       "    </tr>\n",
       "    <tr>\n",
       "      <th>4</th>\n",
       "      <td>Human: What kind of safety devices do I need t...</td>\n",
       "    </tr>\n",
       "    <tr>\n",
       "      <th>...</th>\n",
       "      <td>...</td>\n",
       "    </tr>\n",
       "    <tr>\n",
       "      <th>104865</th>\n",
       "      <td>Human: What are the most invasive species most...</td>\n",
       "    </tr>\n",
       "    <tr>\n",
       "      <th>104866</th>\n",
       "      <td>Human: How do I market my business product or ...</td>\n",
       "    </tr>\n",
       "    <tr>\n",
       "      <th>104867</th>\n",
       "      <td>Human: any advice on foreign university langua...</td>\n",
       "    </tr>\n",
       "    <tr>\n",
       "      <th>104868</th>\n",
       "      <td>Human: What are some common kitchen herbs that...</td>\n",
       "    </tr>\n",
       "    <tr>\n",
       "      <th>104869</th>\n",
       "      <td>Human: How do I become a better public speaker...</td>\n",
       "    </tr>\n",
       "  </tbody>\n",
       "</table>\n",
       "<p>104870 rows × 1 columns</p>\n",
       "</div>"
      ],
      "text/plain": [
       "                                                   prompt\n",
       "0       Human: I was wondering if you could walk me th...\n",
       "1       Human: What type of wine goes best with steak....\n",
       "2       Human: How do I know if this is a good investm...\n",
       "3       Human: Please provide me with some financial a...\n",
       "4       Human: What kind of safety devices do I need t...\n",
       "...                                                   ...\n",
       "104865  Human: What are the most invasive species most...\n",
       "104866  Human: How do I market my business product or ...\n",
       "104867  Human: any advice on foreign university langua...\n",
       "104868  Human: What are some common kitchen herbs that...\n",
       "104869  Human: How do I become a better public speaker...\n",
       "\n",
       "[104870 rows x 1 columns]"
      ]
     },
     "execution_count": 2,
     "metadata": {},
     "output_type": "execute_result"
    }
   ],
   "source": [
    "dataset.to_json('question_raw.jsonl')\n",
    "\n",
    "import pandas as pd    \n",
    "jsonObj = pd.read_json(path_or_buf='question_raw.jsonl', lines=True)\n",
    "jsonObj"
   ]
  },
  {
   "cell_type": "markdown",
   "metadata": {},
   "source": [
    "### Process and Save Dataset"
   ]
  },
  {
   "cell_type": "code",
   "execution_count": 3,
   "metadata": {},
   "outputs": [
    {
     "name": "stdout",
     "output_type": "stream",
     "text": [
      "None\n"
     ]
    },
    {
     "data": {
      "text/html": [
       "<div>\n",
       "<style scoped>\n",
       "    .dataframe tbody tr th:only-of-type {\n",
       "        vertical-align: middle;\n",
       "    }\n",
       "\n",
       "    .dataframe tbody tr th {\n",
       "        vertical-align: top;\n",
       "    }\n",
       "\n",
       "    .dataframe thead th {\n",
       "        text-align: right;\n",
       "    }\n",
       "</style>\n",
       "<table border=\"1\" class=\"dataframe\">\n",
       "  <thead>\n",
       "    <tr style=\"text-align: right;\">\n",
       "      <th></th>\n",
       "      <th>question_id</th>\n",
       "      <th>turns</th>\n",
       "    </tr>\n",
       "  </thead>\n",
       "  <tbody>\n",
       "    <tr>\n",
       "      <th>0</th>\n",
       "      <td>0</td>\n",
       "      <td>[I was wondering if you could walk me through ...</td>\n",
       "    </tr>\n",
       "    <tr>\n",
       "      <th>1</th>\n",
       "      <td>1</td>\n",
       "      <td>[What type of wine goes best with steak. ]</td>\n",
       "    </tr>\n",
       "    <tr>\n",
       "      <th>2</th>\n",
       "      <td>2</td>\n",
       "      <td>[How do I know if this is a good investment. ]</td>\n",
       "    </tr>\n",
       "    <tr>\n",
       "      <th>3</th>\n",
       "      <td>3</td>\n",
       "      <td>[Please provide me with some financial advice. ]</td>\n",
       "    </tr>\n",
       "    <tr>\n",
       "      <th>4</th>\n",
       "      <td>4</td>\n",
       "      <td>[What kind of safety devices do I need to inst...</td>\n",
       "    </tr>\n",
       "    <tr>\n",
       "      <th>...</th>\n",
       "      <td>...</td>\n",
       "      <td>...</td>\n",
       "    </tr>\n",
       "    <tr>\n",
       "      <th>104865</th>\n",
       "      <td>104865</td>\n",
       "      <td>[What are the most invasive species most likel...</td>\n",
       "    </tr>\n",
       "    <tr>\n",
       "      <th>104866</th>\n",
       "      <td>104866</td>\n",
       "      <td>[How do I market my business product or servic...</td>\n",
       "    </tr>\n",
       "    <tr>\n",
       "      <th>104867</th>\n",
       "      <td>104867</td>\n",
       "      <td>[any advice on foreign university language and...</td>\n",
       "    </tr>\n",
       "    <tr>\n",
       "      <th>104868</th>\n",
       "      <td>104868</td>\n",
       "      <td>[What are some common kitchen herbs that I can...</td>\n",
       "    </tr>\n",
       "    <tr>\n",
       "      <th>104869</th>\n",
       "      <td>104869</td>\n",
       "      <td>[How do I become a better public speaker? ]</td>\n",
       "    </tr>\n",
       "  </tbody>\n",
       "</table>\n",
       "<p>104870 rows × 2 columns</p>\n",
       "</div>"
      ],
      "text/plain": [
       "        question_id                                              turns\n",
       "0                 0  [I was wondering if you could walk me through ...\n",
       "1                 1         [What type of wine goes best with steak. ]\n",
       "2                 2     [How do I know if this is a good investment. ]\n",
       "3                 3   [Please provide me with some financial advice. ]\n",
       "4                 4  [What kind of safety devices do I need to inst...\n",
       "...             ...                                                ...\n",
       "104865       104865  [What are the most invasive species most likel...\n",
       "104866       104866  [How do I market my business product or servic...\n",
       "104867       104867  [any advice on foreign university language and...\n",
       "104868       104868  [What are some common kitchen herbs that I can...\n",
       "104869       104869        [How do I become a better public speaker? ]\n",
       "\n",
       "[104870 rows x 2 columns]"
      ]
     },
     "execution_count": 3,
     "metadata": {},
     "output_type": "execute_result"
    }
   ],
   "source": [
    "import re\n",
    "\n",
    "regex_part = re.compile(r'\\n Assistant:(,?.*)', flags=re.IGNORECASE)\n",
    "jsonObj.prompt = jsonObj.prompt.apply(lambda st: st.split('\\n')[0]).str.replace('Human: ', '').apply(lambda st: [st])\n",
    "jsonObj = jsonObj.reset_index()\n",
    "jsonObj.rename(columns = {'index':'question_id', 'prompt': 'turns'}, inplace = True) \n",
    "jsonObj.to_json('question.jsonl', orient='records', lines=True)\n",
    "jsonObj"
   ]
  },
  {
   "cell_type": "markdown",
   "metadata": {},
   "source": [
    "We then filter the `question_raw.jsonl` file to create `question.jsonl` using the GPT-4 prompt:\n",
    "\n",
    "https://chat.openai.com/share/c8d01867-f556-4d60-9a4c-6428fd722376"
   ]
  }
 ],
 "metadata": {
  "kernelspec": {
   "display_name": "Python 3",
   "language": "python",
   "name": "python3"
  },
  "language_info": {
   "codemirror_mode": {
    "name": "ipython",
    "version": 3
   },
   "file_extension": ".py",
   "mimetype": "text/x-python",
   "name": "python",
   "nbconvert_exporter": "python",
   "pygments_lexer": "ipython3",
   "version": "3.11.6"
  }
 },
 "nbformat": 4,
 "nbformat_minor": 2
}

{
 "cells": [
  {
   "cell_type": "markdown",
   "metadata": {},
   "source": [
    "### Load Dataset"
   ]
  },
  {
   "cell_type": "code",
   "execution_count": 3,
   "metadata": {},
   "outputs": [
    {
     "data": {
      "application/vnd.jupyter.widget-view+json": {
       "model_id": "6abad9c2437d4528b9c3b882537adcd2",
       "version_major": 2,
       "version_minor": 0
      },
      "text/plain": [
       "Generating train split: 0 examples [00:00, ? examples/s]"
      ]
     },
     "metadata": {},
     "output_type": "display_data"
    },
    {
     "data": {
      "application/vnd.jupyter.widget-view+json": {
       "model_id": "326ca641da9d4052aa5eefa20991b8dc",
       "version_major": 2,
       "version_minor": 0
      },
      "text/plain": [
       "Generating test split: 0 examples [00:00, ? examples/s]"
      ]
     },
     "metadata": {},
     "output_type": "display_data"
    }
   ],
   "source": [
    "from datasets import load_dataset\n",
    "\n",
    "dataset = load_dataset(\"Anthropic/hh-rlhf\", data_dir=\"helpful-base\", split='train')"
   ]
  },
  {
   "cell_type": "markdown",
   "metadata": {},
   "source": [
    "### Save raw dataset"
   ]
  },
  {
   "cell_type": "code",
   "execution_count": 17,
   "metadata": {},
   "outputs": [
    {
     "data": {
      "application/vnd.jupyter.widget-view+json": {
       "model_id": "7f03d9e4bf394cf1ad3e0f1893d79fd4",
       "version_major": 2,
       "version_minor": 0
      },
      "text/plain": [
       "Creating json from Arrow format:   0%|          | 0/44 [00:00<?, ?ba/s]"
      ]
     },
     "metadata": {},
     "output_type": "display_data"
    },
    {
     "data": {
      "text/html": [
       "<div>\n",
       "<style scoped>\n",
       "    .dataframe tbody tr th:only-of-type {\n",
       "        vertical-align: middle;\n",
       "    }\n",
       "\n",
       "    .dataframe tbody tr th {\n",
       "        vertical-align: top;\n",
       "    }\n",
       "\n",
       "    .dataframe thead th {\n",
       "        text-align: right;\n",
       "    }\n",
       "</style>\n",
       "<table border=\"1\" class=\"dataframe\">\n",
       "  <thead>\n",
       "    <tr style=\"text-align: right;\">\n",
       "      <th></th>\n",
       "      <th>chosen</th>\n",
       "      <th>rejected</th>\n",
       "    </tr>\n",
       "  </thead>\n",
       "  <tbody>\n",
       "    <tr>\n",
       "      <th>0</th>\n",
       "      <td>\\n\\nHuman: Hi, I want to learn to play horsesh...</td>\n",
       "      <td>\\n\\nHuman: Hi, I want to learn to play horsesh...</td>\n",
       "    </tr>\n",
       "    <tr>\n",
       "      <th>1</th>\n",
       "      <td>\\n\\nHuman: How do I teach kids to meditate?\\n\\...</td>\n",
       "      <td>\\n\\nHuman: How do I teach kids to meditate?\\n\\...</td>\n",
       "    </tr>\n",
       "    <tr>\n",
       "      <th>2</th>\n",
       "      <td>\\n\\nHuman: Can you tell me the steps for getti...</td>\n",
       "      <td>\\n\\nHuman: Can you tell me the steps for getti...</td>\n",
       "    </tr>\n",
       "    <tr>\n",
       "      <th>3</th>\n",
       "      <td>\\n\\nHuman: How can I store food if I don't hav...</td>\n",
       "      <td>\\n\\nHuman: How can I store food if I don't hav...</td>\n",
       "    </tr>\n",
       "    <tr>\n",
       "      <th>4</th>\n",
       "      <td>\\n\\nHuman: what are some good novels for a 9 y...</td>\n",
       "      <td>\\n\\nHuman: what are some good novels for a 9 y...</td>\n",
       "    </tr>\n",
       "    <tr>\n",
       "      <th>...</th>\n",
       "      <td>...</td>\n",
       "      <td>...</td>\n",
       "    </tr>\n",
       "    <tr>\n",
       "      <th>43830</th>\n",
       "      <td>\\n\\nHuman: I'm planning to make cookies for Ch...</td>\n",
       "      <td>\\n\\nHuman: I'm planning to make cookies for Ch...</td>\n",
       "    </tr>\n",
       "    <tr>\n",
       "      <th>43831</th>\n",
       "      <td>\\n\\nHuman: What ingredients do I need to make ...</td>\n",
       "      <td>\\n\\nHuman: What ingredients do I need to make ...</td>\n",
       "    </tr>\n",
       "    <tr>\n",
       "      <th>43832</th>\n",
       "      <td>\\n\\nHuman: Can you find a guide for caring for...</td>\n",
       "      <td>\\n\\nHuman: Can you find a guide for caring for...</td>\n",
       "    </tr>\n",
       "    <tr>\n",
       "      <th>43833</th>\n",
       "      <td>\\n\\nHuman: I like to host guests at my home fr...</td>\n",
       "      <td>\\n\\nHuman: I like to host guests at my home fr...</td>\n",
       "    </tr>\n",
       "    <tr>\n",
       "      <th>43834</th>\n",
       "      <td>\\n\\nHuman: Does the US really go to war becaus...</td>\n",
       "      <td>\\n\\nHuman: Does the US really go to war becaus...</td>\n",
       "    </tr>\n",
       "  </tbody>\n",
       "</table>\n",
       "<p>43835 rows × 2 columns</p>\n",
       "</div>"
      ],
      "text/plain": [
       "                                                  chosen  \\\n",
       "0      \\n\\nHuman: Hi, I want to learn to play horsesh...   \n",
       "1      \\n\\nHuman: How do I teach kids to meditate?\\n\\...   \n",
       "2      \\n\\nHuman: Can you tell me the steps for getti...   \n",
       "3      \\n\\nHuman: How can I store food if I don't hav...   \n",
       "4      \\n\\nHuman: what are some good novels for a 9 y...   \n",
       "...                                                  ...   \n",
       "43830  \\n\\nHuman: I'm planning to make cookies for Ch...   \n",
       "43831  \\n\\nHuman: What ingredients do I need to make ...   \n",
       "43832  \\n\\nHuman: Can you find a guide for caring for...   \n",
       "43833  \\n\\nHuman: I like to host guests at my home fr...   \n",
       "43834  \\n\\nHuman: Does the US really go to war becaus...   \n",
       "\n",
       "                                                rejected  \n",
       "0      \\n\\nHuman: Hi, I want to learn to play horsesh...  \n",
       "1      \\n\\nHuman: How do I teach kids to meditate?\\n\\...  \n",
       "2      \\n\\nHuman: Can you tell me the steps for getti...  \n",
       "3      \\n\\nHuman: How can I store food if I don't hav...  \n",
       "4      \\n\\nHuman: what are some good novels for a 9 y...  \n",
       "...                                                  ...  \n",
       "43830  \\n\\nHuman: I'm planning to make cookies for Ch...  \n",
       "43831  \\n\\nHuman: What ingredients do I need to make ...  \n",
       "43832  \\n\\nHuman: Can you find a guide for caring for...  \n",
       "43833  \\n\\nHuman: I like to host guests at my home fr...  \n",
       "43834  \\n\\nHuman: Does the US really go to war becaus...  \n",
       "\n",
       "[43835 rows x 2 columns]"
      ]
     },
     "execution_count": 17,
     "metadata": {},
     "output_type": "execute_result"
    }
   ],
   "source": [
    "dataset.to_json('question_raw.jsonl')\n",
    "\n",
    "import pandas as pd    \n",
    "jsonObj = pd.read_json(path_or_buf='question_raw.jsonl', lines=True)\n",
    "jsonObj"
   ]
  },
  {
   "cell_type": "markdown",
   "metadata": {},
   "source": [
    "### Process and Save Dataset"
   ]
  },
  {
   "cell_type": "code",
   "execution_count": 18,
   "metadata": {},
   "outputs": [
    {
     "name": "stdout",
     "output_type": "stream",
     "text": [
      "None\n"
     ]
    },
    {
     "data": {
      "text/html": [
       "<div>\n",
       "<style scoped>\n",
       "    .dataframe tbody tr th:only-of-type {\n",
       "        vertical-align: middle;\n",
       "    }\n",
       "\n",
       "    .dataframe tbody tr th {\n",
       "        vertical-align: top;\n",
       "    }\n",
       "\n",
       "    .dataframe thead th {\n",
       "        text-align: right;\n",
       "    }\n",
       "</style>\n",
       "<table border=\"1\" class=\"dataframe\">\n",
       "  <thead>\n",
       "    <tr style=\"text-align: right;\">\n",
       "      <th></th>\n",
       "      <th>question_id</th>\n",
       "      <th>turns</th>\n",
       "    </tr>\n",
       "  </thead>\n",
       "  <tbody>\n",
       "    <tr>\n",
       "      <th>0</th>\n",
       "      <td>0</td>\n",
       "      <td>[Hi, I want to learn to play horseshoes. Can y...</td>\n",
       "    </tr>\n",
       "    <tr>\n",
       "      <th>1</th>\n",
       "      <td>1</td>\n",
       "      <td>[How do I teach kids to meditate?]</td>\n",
       "    </tr>\n",
       "    <tr>\n",
       "      <th>2</th>\n",
       "      <td>2</td>\n",
       "      <td>[Can you tell me the steps for getting a harbo...</td>\n",
       "    </tr>\n",
       "    <tr>\n",
       "      <th>3</th>\n",
       "      <td>3</td>\n",
       "      <td>[How can I store food if I don't have a pantry?]</td>\n",
       "    </tr>\n",
       "    <tr>\n",
       "      <th>4</th>\n",
       "      <td>4</td>\n",
       "      <td>[what are some good novels for a 9 year old?]</td>\n",
       "    </tr>\n",
       "    <tr>\n",
       "      <th>...</th>\n",
       "      <td>...</td>\n",
       "      <td>...</td>\n",
       "    </tr>\n",
       "    <tr>\n",
       "      <th>43830</th>\n",
       "      <td>43830</td>\n",
       "      <td>[I'm planning to make cookies for Christmas.  ...</td>\n",
       "    </tr>\n",
       "    <tr>\n",
       "      <th>43831</th>\n",
       "      <td>43831</td>\n",
       "      <td>[What ingredients do I need to make a margheri...</td>\n",
       "    </tr>\n",
       "    <tr>\n",
       "      <th>43832</th>\n",
       "      <td>43832</td>\n",
       "      <td>[Can you find a guide for caring for a new tat...</td>\n",
       "    </tr>\n",
       "    <tr>\n",
       "      <th>43833</th>\n",
       "      <td>43833</td>\n",
       "      <td>[I like to host guests at my home from time to...</td>\n",
       "    </tr>\n",
       "    <tr>\n",
       "      <th>43834</th>\n",
       "      <td>43834</td>\n",
       "      <td>[Does the US really go to war because of the a...</td>\n",
       "    </tr>\n",
       "  </tbody>\n",
       "</table>\n",
       "<p>43835 rows × 2 columns</p>\n",
       "</div>"
      ],
      "text/plain": [
       "       question_id                                              turns\n",
       "0                0  [Hi, I want to learn to play horseshoes. Can y...\n",
       "1                1                 [How do I teach kids to meditate?]\n",
       "2                2  [Can you tell me the steps for getting a harbo...\n",
       "3                3   [How can I store food if I don't have a pantry?]\n",
       "4                4      [what are some good novels for a 9 year old?]\n",
       "...            ...                                                ...\n",
       "43830        43830  [I'm planning to make cookies for Christmas.  ...\n",
       "43831        43831  [What ingredients do I need to make a margheri...\n",
       "43832        43832  [Can you find a guide for caring for a new tat...\n",
       "43833        43833  [I like to host guests at my home from time to...\n",
       "43834        43834  [Does the US really go to war because of the a...\n",
       "\n",
       "[43835 rows x 2 columns]"
      ]
     },
     "execution_count": 18,
     "metadata": {},
     "output_type": "execute_result"
    }
   ],
   "source": [
    "import re\n",
    "\n",
    "jsonObj.chosen = jsonObj.chosen.apply(lambda st: st.split('\\n\\n')[1]).str.replace('Human: ', '').apply(lambda st: [st])\n",
    "jsonObj = jsonObj.reset_index().drop(\"rejected\", axis=1)\n",
    "jsonObj.rename(columns = {'index':'question_id', 'chosen': 'turns'}, inplace = True) \n",
    "jsonObj.to_json('question_raw.jsonl', orient='records', lines=True)\n",
    "jsonObj"
   ]
  },
  {
   "cell_type": "markdown",
   "metadata": {},
   "source": [
    "We then filter the `question_raw.jsonl` file to create `question.jsonl` using the GPT-4 prompt:\n",
    "\n",
    "https://chat.openai.com/share/c8d01867-f556-4d60-9a4c-6428fd722376"
   ]
  }
 ],
 "metadata": {
  "kernelspec": {
   "display_name": "Python 3",
   "language": "python",
   "name": "python3"
  },
  "language_info": {
   "codemirror_mode": {
    "name": "ipython",
    "version": 3
   },
   "file_extension": ".py",
   "mimetype": "text/x-python",
   "name": "python",
   "nbconvert_exporter": "python",
   "pygments_lexer": "ipython3",
   "version": "3.11.6"
  }
 },
 "nbformat": 4,
 "nbformat_minor": 2
}
